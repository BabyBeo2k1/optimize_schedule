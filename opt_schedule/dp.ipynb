{
 "cells": [
  {
   "cell_type": "code",
   "execution_count": 1,
   "metadata": {},
   "outputs": [],
   "source": [
    "import numpy as np\n",
    "import time\n",
    "import os"
   ]
  },
  {
   "cell_type": "code",
   "execution_count": 2,
   "metadata": {},
   "outputs": [],
   "source": [
    "def load_data(path='test3.txt'):\n",
    "    with open(path, \"r\") as file:\n",
    "            # read the file line by line\n",
    "        lines = file.readlines()\n",
    "        # convert each line to integer and append to the list\n",
    "\n",
    "        conditions= [[int(i)for i in line.strip().split(' ')] for line in lines]\n",
    "\n",
    "    N=conditions[0][0]\n",
    "    A=conditions[0][1]\n",
    "    C=conditions[0][2]\n",
    "    c= conditions[1]\n",
    "    a=conditions[2]\n",
    "    f=conditions[3]\n",
    "    m=conditions[4]\n",
    "    return N,A,C,c,a,f,m"
   ]
  },
  {
   "cell_type": "code",
   "execution_count": 3,
   "metadata": {},
   "outputs": [],
   "source": [
    "def dp_solver(N,A,C,c,a,f,m):\n",
    "    j,k=A//min(a)+1,C//min(c)\n",
    "    dp=np.zeros((N+1,j,k))-1\n",
    "    for i in range(N):\n",
    "        for x in range()\n",
    "    pass"
   ]
  },
  {
   "cell_type": "code",
   "execution_count": 8,
   "metadata": {},
   "outputs": [
    {
     "name": "stdout",
     "output_type": "stream",
     "text": [
      "2\n"
     ]
    }
   ],
   "source": [
    "x=12\n",
    "y=5\n",
    "print(x//y)"
   ]
  },
  {
   "cell_type": "code",
   "execution_count": null,
   "metadata": {},
   "outputs": [],
   "source": []
  }
 ],
 "metadata": {
  "kernelspec": {
   "display_name": "Python 3",
   "language": "python",
   "name": "python3"
  },
  "language_info": {
   "codemirror_mode": {
    "name": "ipython",
    "version": 3
   },
   "file_extension": ".py",
   "mimetype": "text/x-python",
   "name": "python",
   "nbconvert_exporter": "python",
   "pygments_lexer": "ipython3",
   "version": "3.8.10"
  },
  "orig_nbformat": 4,
  "vscode": {
   "interpreter": {
    "hash": "916dbcbb3f70747c44a77c7bcd40155683ae19c65e1c03b4aa3499c5328201f1"
   }
  }
 },
 "nbformat": 4,
 "nbformat_minor": 2
}
