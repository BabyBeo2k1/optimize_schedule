{
  "nbformat": 4,
  "nbformat_minor": 0,
  "metadata": {
    "colab": {
      "provenance": []
    },
    "kernelspec": {
      "name": "python3",
      "display_name": "Python 3"
    },
    "language_info": {
      "name": "python"
    }
  },
  "cells": [
    {
      "cell_type": "code",
      "execution_count": 1,
      "metadata": {
        "colab": {
          "base_uri": "https://localhost:8080/"
        },
        "id": "gQgkJDWy5b9x",
        "outputId": "78332555-f09d-4ee0-c2a3-f9667e683e2f"
      },
      "outputs": [
        {
          "output_type": "stream",
          "name": "stdout",
          "text": [
            "Drive already mounted at /content/drive; to attempt to forcibly remount, call drive.mount(\"/content/drive\", force_remount=True).\n"
          ]
        }
      ],
      "source": [
        "from google.colab import drive\n",
        "drive.mount('/content/drive')"
      ]
    },
    {
      "cell_type": "code",
      "source": [
        "!python -m pip install --upgrade --user ortools"
      ],
      "metadata": {
        "colab": {
          "base_uri": "https://localhost:8080/"
        },
        "id": "6BJhBEkH5idd",
        "outputId": "026e6735-d9d9-49fe-bd38-4f11d8f06bd6"
      },
      "execution_count": 2,
      "outputs": [
        {
          "output_type": "stream",
          "name": "stdout",
          "text": [
            "Looking in indexes: https://pypi.org/simple, https://us-python.pkg.dev/colab-wheels/public/simple/\n",
            "Requirement already satisfied: ortools in /root/.local/lib/python3.7/site-packages (9.5.2237)\n",
            "Requirement already satisfied: absl-py>=0.13 in /usr/local/lib/python3.7/dist-packages (from ortools) (1.3.0)\n",
            "Requirement already satisfied: protobuf>=4.21.5 in /root/.local/lib/python3.7/site-packages (from ortools) (4.21.9)\n",
            "Requirement already satisfied: numpy>=1.13.3 in /usr/local/lib/python3.7/dist-packages (from ortools) (1.21.6)\n"
          ]
        }
      ]
    },
    {
      "cell_type": "code",
      "source": [
        "import numpy as np\n",
        "import ortools\n",
        "from ortools.constraint_solver import pywrapcp\n",
        "from ortools.linear_solver import pywraplp"
      ],
      "metadata": {
        "id": "RWXdUEp25kiO"
      },
      "execution_count": 3,
      "outputs": []
    },
    {
      "cell_type": "code",
      "source": [
        "def gen_data(n):\n",
        "  w = np.random.rand(n,n) * 15\n",
        "  print(w)\n",
        "  return w\n",
        "\n",
        "w = gen_data(10)"
      ],
      "metadata": {
        "colab": {
          "base_uri": "https://localhost:8080/"
        },
        "id": "9uYJuXp66DW0",
        "outputId": "3e60fd2b-1fb0-42ec-bd28-ee2e949a2201"
      },
      "execution_count": 20,
      "outputs": [
        {
          "output_type": "stream",
          "name": "stdout",
          "text": [
            "[[ 1.02378387 10.61348808  8.34065316  1.51547643  3.76243839  6.6789411\n",
            "   9.43867193  1.63019775 10.59474192  1.61443015]\n",
            " [ 3.91759988  7.23783403  5.34009944  8.26100841  2.26275826  4.16141577\n",
            "   8.03348209  1.05345776  0.55620681  2.14034945]\n",
            " [13.87410473  8.40349145  9.61979483  0.38404476 12.4856932   4.10948785\n",
            "   6.82631285 14.32087107  8.67673749 10.64582223]\n",
            " [11.48446327  6.69031132  2.94974128  0.74067121  4.72033061  3.48466025\n",
            "   7.76881615 13.66345288  5.20982913 10.19167953]\n",
            " [ 9.82125056  8.09189812  5.29523802  0.89384373  1.1991321   1.02807982\n",
            "  10.46569539  5.22028092  9.48096497 13.15656469]\n",
            " [ 1.41594332 14.33943683  2.32793452  0.03729876 12.12767537  1.99397674\n",
            "  14.77452492  8.61314048  3.83550331  0.15345623]\n",
            " [ 0.88346198  8.85730346  9.89085416 14.74955234  7.79585841  6.24443941\n",
            "   0.55216894 12.93476775  5.51185738 12.0962538 ]\n",
            " [ 7.10266046  9.90880778 14.15537303 14.42885773 13.700135    3.45862344\n",
            "   4.04547776  7.33752602  4.70251418  2.68708517]\n",
            " [ 8.52871661  4.33122117  0.53563557 14.99634527  2.3376757   9.73353478\n",
            "  10.08797086  9.56595105  8.13852692  0.62842007]\n",
            " [ 2.49812028  4.96570784  9.70876431  0.51083386  1.18046839 11.296914\n",
            "   2.24355429 14.91145774  2.48695747  1.89616804]]\n"
          ]
        }
      ]
    },
    {
      "cell_type": "code",
      "source": [
        "from itertools import combinations\n",
        "def sub_lists(my_list):\n",
        "  subs = []\n",
        "  final_subs = []\n",
        "  for i in range (0, len(my_list)+1):\n",
        "    temp = [list(x) for x in combinations(my_list, i)]\n",
        "    if len(temp)>0:\n",
        "      subs.extend(temp)\n",
        "  for i in range(len(subs)):\n",
        "    if len(subs[i]) >= 2:\n",
        "      final_subs.extend([list(subs[i])])\n",
        "  return final_subs\n",
        "l1 = [10, 20, 30, 40]\n",
        "print(\"S\")\n",
        "print(sub_lists(l1))"
      ],
      "metadata": {
        "colab": {
          "base_uri": "https://localhost:8080/"
        },
        "id": "kvZ6ZReu686R",
        "outputId": "07ec6193-9d63-4465-e862-4490299321be"
      },
      "execution_count": 21,
      "outputs": [
        {
          "output_type": "stream",
          "name": "stdout",
          "text": [
            "S\n",
            "[[10, 20], [10, 30], [10, 40], [20, 30], [20, 40], [30, 40], [10, 20, 30], [10, 20, 40], [10, 30, 40], [20, 30, 40], [10, 20, 30, 40]]\n"
          ]
        }
      ]
    },
    {
      "cell_type": "code",
      "source": [
        "N = 10\n",
        "solver = pywraplp.Solver.CreateSolver('GLOP')\n",
        "w = gen_data(N)\n",
        "x = [[solver.IntVar(0, 1, 'x({i}, {j})'.format(i=i, j=j)) for j in range(N)] for i in range(N)]\n",
        "print('Number of variables =', solver.NumVariables())"
      ],
      "metadata": {
        "colab": {
          "base_uri": "https://localhost:8080/"
        },
        "id": "uni2DAZB6Zkz",
        "outputId": "112a3a68-d2c8-4bf0-9eac-f7f013c09687"
      },
      "execution_count": 22,
      "outputs": [
        {
          "output_type": "stream",
          "name": "stdout",
          "text": [
            "[[ 1.53058384  1.7504916   3.37118148 12.78706822 12.99071275  8.22926775\n",
            "   0.05729982  3.78984605 10.44508691  8.1725786 ]\n",
            " [ 2.94944708 12.32662313  9.49272635  3.90428706  0.02250189 11.31160803\n",
            "   2.47782372  9.76353934  6.28591535  3.77210202]\n",
            " [14.09027995  3.25789333  9.05965507  1.69070126 10.03841831  1.12249706\n",
            "  12.27857384 14.35103218 11.41128536  3.71281008]\n",
            " [ 6.006382   12.25415043  6.96699489  8.15042201  3.95741113  6.73869765\n",
            "  12.76196891  0.58360557 12.78894574  2.851368  ]\n",
            " [13.62798605 12.58172615  6.01524602  8.90043342 11.83469592  6.08137948\n",
            "   8.14035902  0.74711427  8.19410185  5.21742008]\n",
            " [14.51177754 14.71892886 13.45954408  5.07290048  4.49211622 12.72954754\n",
            "   8.490974   12.6586358  10.66826442 10.94793146]\n",
            " [ 2.71943137  5.44661858 13.64738763 13.39459318  1.07284025  1.08119831\n",
            "   5.57795122 10.01227362  6.63251831  7.50937064]\n",
            " [13.53469333  2.62387972  2.84130375 14.90063681 11.88775789  7.26122544\n",
            "   0.68870396  6.14894827  8.61240809  8.80354955]\n",
            " [ 3.15335352  0.4822604   0.61726731 14.84517444  4.72426481  9.91879748\n",
            "   4.90431664 14.57584856 13.73785032 14.91027166]\n",
            " [13.69203546  2.90266415 13.50364949 11.05349784  4.57800287  3.37328993\n",
            "  14.23369668  2.58970179  3.69533002  0.65075491]]\n",
            "Number of variables = 100\n"
          ]
        }
      ]
    },
    {
      "cell_type": "code",
      "source": [
        "# subtour elimination constraints\n",
        "l = np.arange(N)\n",
        "sub_list = sub_lists(l)\n",
        "for i in range(len(sub_list)):\n",
        "  this_list = sub_list[i]\n",
        "  ub = len(this_list)\n",
        "  cs = solver.Constraint(0, ub-1, 'cs')\n",
        "  for j in this_list:\n",
        "    for t in this_list:\n",
        "      cs.SetCoefficient(x[t][j], 1)\n",
        "\n",
        "for i in range(N):\n",
        "  cs = solver.Constraint(0, 0, 'cs')\n",
        "  cs.SetCoefficient(x[i][i], 1)\n",
        "\n",
        "cs = solver.Constraint(N-1, N-1, 'cs')\n",
        "for i in range(N):\n",
        "  for j in range(N):\n",
        "    cs.SetCoefficient(x[i][j], 1)"
      ],
      "metadata": {
        "id": "d7Kcb7dH7DiR"
      },
      "execution_count": 23,
      "outputs": []
    },
    {
      "cell_type": "code",
      "source": [
        "objective = solver.Objective()\n",
        "for i in range(N):\n",
        "  for j in range(N):\n",
        "    objective.SetCoefficient(x[i][j], w[i][j])\n",
        "objective.SetMinimization()"
      ],
      "metadata": {
        "id": "vahlAgMo-dBr"
      },
      "execution_count": 24,
      "outputs": []
    },
    {
      "cell_type": "code",
      "source": [
        "solver.Solve()\n",
        "print('Objective value =', objective.Value())\n",
        "print(\"Matrix value \")\n",
        "for i in range(N):\n",
        "  print('\\n')\n",
        "  for j in range(N):\n",
        "    print(x[i][j].solution_value(), end = ' ')"
      ],
      "metadata": {
        "colab": {
          "base_uri": "https://localhost:8080/"
        },
        "id": "ta7oxoxg-2Wa",
        "outputId": "e0f06ae9-cc89-4079-fe1e-c8dee3f90b45"
      },
      "execution_count": 25,
      "outputs": [
        {
          "output_type": "stream",
          "name": "stdout",
          "text": [
            "Objective value = 6.869653324288823\n",
            "Matrix value \n",
            "\n",
            "\n",
            "0.0 0.0 0.0 0.0 0.0 0.0 1.0 0.0 0.0 0.0 \n",
            "\n",
            "0.0 0.0 0.0 0.0 1.0 0.0 0.0 0.0 0.0 0.0 \n",
            "\n",
            "0.0 0.0 0.0 0.0 0.0 0.0 0.0 0.0 0.0 0.0 \n",
            "\n",
            "0.0 0.0 0.0 0.0 0.0 0.0 0.0 1.0 0.0 0.0 \n",
            "\n",
            "0.0 0.0 0.0 0.0 0.0 0.0 0.0 1.0 0.0 0.0 \n",
            "\n",
            "0.0 0.0 0.0 0.0 0.0 0.0 0.0 0.0 0.0 0.0 \n",
            "\n",
            "0.0 0.0 0.0 0.0 0.0 1.0 0.0 0.0 0.0 0.0 \n",
            "\n",
            "0.0 0.0 0.0 0.0 0.0 0.0 1.0 0.0 0.0 0.0 \n",
            "\n",
            "0.0 1.0 1.0 0.0 0.0 0.0 0.0 0.0 0.0 0.0 \n",
            "\n",
            "0.0 0.0 0.0 0.0 0.0 0.0 0.0 1.0 0.0 0.0 "
          ]
        }
      ]
    }
  ]
}