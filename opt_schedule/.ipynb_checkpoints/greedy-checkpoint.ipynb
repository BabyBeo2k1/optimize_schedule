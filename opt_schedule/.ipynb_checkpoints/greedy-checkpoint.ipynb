{
 "cells": [
  {
   "cell_type": "markdown",
   "metadata": {},
   "source": [
    "# Mô hình hóa bài toán\n",
    "\n"
   ]
  },
  {
   "cell_type": "code",
   "execution_count": 24,
   "metadata": {},
   "outputs": [
    {
     "name": "stdout",
     "output_type": "stream",
     "text": [
      "Total value =  1049.0\n",
      "Item 0 is packed in the bin has weight 48.\n",
      "Item 3 is packed in the bin has weight 36.\n"
     ]
    }
   ],
   "source": [
    "from ortools.linear_solver import pywraplp\n",
    "\n",
    "\n",
    "def create_data_model():\n",
    "    \"\"\"Create the data for the example.\"\"\"\n",
    "    data = {}\n",
    "    data['weights'] = [48, 30, 42, 36, 36, 48, 42, 42, 36, 24, 30, 30, 42, 36, 36]\n",
    "    data['values'] = [999, 30, 25, 50, 35, 30, 15, 40, 30, 35, 45, 10, 20, 30, 25]\n",
    "    data['items'] = list(range(len(data['weights'])))\n",
    "    data['num_items'] = len(data['weights'])\n",
    "    \n",
    "    # C = 100\n",
    "    data['bin_capacity'] = 100\n",
    "    return data\n",
    "\n",
    "def main():\n",
    "    data = create_data_model()\n",
    "\n",
    "    # Create the mip solver with the SCIP backend.\n",
    "    solver = pywraplp.Solver.CreateSolver('SCIP')\n",
    "\n",
    "    # Variables\n",
    "    # x[i] = 1 if item i is packed in bin.\n",
    "    x = {}\n",
    "    for i in data['items']:\n",
    "        x[i] = solver.IntVar(0, 1, 'x_%i' % (i))\n",
    "\n",
    " \n",
    "    # Constraints\n",
    "    solver.Add(solver.Sum([x[i] * data['weights'][i] for i in data['items']]) <= data['bin_capacity'])    \n",
    "    \n",
    "    # Objective\n",
    "    solver.Maximize(solver.Sum([x[i] * data['values'][i] for i in data['items']]))\n",
    "    \n",
    "    # Solve    \n",
    "    status = solver.Solve()\n",
    "    \n",
    "    if status==pywraplp.Solver.OPTIMAL:\n",
    "        print('Total value = ', solver.Objective().Value())\n",
    "        for i in data['items']:\n",
    "            if x[i].solution_value() > 0:\n",
    "                print('Item %i is packed in the bin has weight %i.' % (i, data['weights'][i]))\n",
    "    \n",
    "\n",
    "if __name__ == '__main__':\n",
    "    main()"
   ]
  }
 ],
 "metadata": {
  "kernelspec": {
   "display_name": "Python 3.8.10 ('.venv': venv)",
   "language": "python",
   "name": "python3"
  },
  "language_info": {
   "codemirror_mode": {
    "name": "ipython",
    "version": 3
   },
   "file_extension": ".py",
   "mimetype": "text/x-python",
   "name": "python",
   "nbconvert_exporter": "python",
   "pygments_lexer": "ipython3",
   "version": "3.8.10"
  },
  "orig_nbformat": 4,
  "vscode": {
   "interpreter": {
    "hash": "86e7d40f75abd3c26ed8cbca2174e0153a90a867918bd469cf73ff4e1b243734"
   }
  }
 },
 "nbformat": 4,
 "nbformat_minor": 2
}
