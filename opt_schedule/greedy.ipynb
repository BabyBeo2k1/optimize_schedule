{
 "cells": [
  {
   "cell_type": "code",
   "execution_count": 2,
   "metadata": {},
   "outputs": [],
   "source": [
    "import numpy as np\n"
   ]
  },
  {
   "cell_type": "code",
   "execution_count": 3,
   "metadata": {},
   "outputs": [],
   "source": [
    "x=np.loadtxt('test.txt',delimiter=' ')"
   ]
  },
  {
   "cell_type": "code",
   "execution_count": 6,
   "metadata": {},
   "outputs": [
    {
     "name": "stdout",
     "output_type": "stream",
     "text": [
      "[[  44.  963.   65.    7.]\n",
      " [  20. 2721.   22.    9.]\n",
      " [  37. 2459.   73.    4.]\n",
      " [   4. 3824.   52.    6.]\n",
      " [  22. 3440.   14.    7.]]\n"
     ]
    }
   ],
   "source": [
    "print(x)\n",
    "A=10e9+7\n",
    "C=10e9+7"
   ]
  },
  {
   "cell_type": "code",
   "execution_count": 7,
   "metadata": {},
   "outputs": [],
   "source": [
    "c=x[:,0]\n",
    "a=x[:,1]\n",
    "p=x[:,2]\n"
   ]
  },
  {
   "cell_type": "code",
   "execution_count": 8,
   "metadata": {},
   "outputs": [],
   "source": [
    "#heuristic\n",
    "a=p/a\n",
    "c=p/c\n"
   ]
  },
  {
   "cell_type": "code",
   "execution_count": null,
   "metadata": {},
   "outputs": [],
   "source": []
  }
 ],
 "metadata": {
  "kernelspec": {
   "display_name": "Python 3 (ipykernel)",
   "language": "python",
   "name": "python3"
  },
  "language_info": {
   "codemirror_mode": {
    "name": "ipython",
    "version": 3
   },
   "file_extension": ".py",
   "mimetype": "text/x-python",
   "name": "python",
   "nbconvert_exporter": "python",
   "pygments_lexer": "ipython3",
   "version": "3.9.7"
  },
  "vscode": {
   "interpreter": {
    "hash": "86e7d40f75abd3c26ed8cbca2174e0153a90a867918bd469cf73ff4e1b243734"
   }
  }
 },
 "nbformat": 4,
 "nbformat_minor": 4
}
